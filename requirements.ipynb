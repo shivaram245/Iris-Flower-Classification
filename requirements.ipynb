{
 "cells": [
  {
   "cell_type": "markdown",
   "id": "ed3eab91-7f2c-4d96-bbc5-8bd0cf854757",
   "metadata": {},
   "source": [
    "#### The requirements for the project:\n",
    "#### numpy\n",
    "#### pandas\n",
    "#### matplotlib\n",
    "#### seaborn\n",
    "#### scikit-learn\n",
    "#### xgboost\n"
   ]
  },
  {
   "cell_type": "code",
   "execution_count": null,
   "id": "ec50f6b3-3151-4218-9170-76667e9958b4",
   "metadata": {},
   "outputs": [],
   "source": [
    "Preferably th"
   ]
  }
 ],
 "metadata": {
  "kernelspec": {
   "display_name": "Python 3 (ipykernel)",
   "language": "python",
   "name": "python3"
  },
  "language_info": {
   "codemirror_mode": {
    "name": "ipython",
    "version": 3
   },
   "file_extension": ".py",
   "mimetype": "text/x-python",
   "name": "python",
   "nbconvert_exporter": "python",
   "pygments_lexer": "ipython3",
   "version": "3.12.7"
  }
 },
 "nbformat": 4,
 "nbformat_minor": 5
}
